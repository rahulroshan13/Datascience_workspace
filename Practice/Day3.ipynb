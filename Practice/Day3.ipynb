{
 "cells": [
  {
   "cell_type": "code",
   "execution_count": 5,
   "metadata": {},
   "outputs": [
    {
     "name": "stdout",
     "output_type": "stream",
     "text": [
      "Enter an integer 10\n",
      "10\n",
      "It will always run\n"
     ]
    }
   ],
   "source": [
    "try:\n",
    "    a = int(input('Enter an integer '))\n",
    "except:# handles error\n",
    "    print('Error msg')\n",
    "else:# else to except block, it runs when there is no exception in try\n",
    "    print(a)\n",
    "finally:# It always run despite of error occurance\n",
    "    print('It will always run')"
   ]
  },
  {
   "cell_type": "code",
   "execution_count": 5,
   "metadata": {},
   "outputs": [
    {
     "name": "stdout",
     "output_type": "stream",
     "text": [
      "Enter an integer 10\n",
      "10\n",
      "It will always run\n"
     ]
    }
   ],
   "source": [
    "while True:\n",
    "    try:\n",
    "        a = int(input('Enter an integer '))\n",
    "    except:# handles error\n",
    "        print('Error msg')\n",
    "    else:# else to except block, it runs when there is no exception in try\n",
    "        print(a)\n",
    "        break\n",
    "    finally:# It always run despite of error occurance and break in else\n",
    "        print('It will always run')"
   ]
  },
  {
   "cell_type": "code",
   "execution_count": 6,
   "metadata": {},
   "outputs": [
    {
     "name": "stdout",
     "output_type": "stream",
     "text": [
      "Enter an integer 10\n",
      "10\n",
      "It will always run\n"
     ]
    }
   ],
   "source": [
    "for i in range(5):\n",
    "    try:\n",
    "        a = int(input('Enter an integer '))\n",
    "    except:# handles error\n",
    "        print('Error msg')\n",
    "    else:# else to except block, it runs when there is no exception in try\n",
    "        print(a)\n",
    "        break\n",
    "    finally:# It always run despite of error occurance and break in else\n",
    "        print('It will always run')"
   ]
  },
  {
   "cell_type": "code",
   "execution_count": null,
   "metadata": {},
   "outputs": [],
   "source": []
  },
  {
   "cell_type": "code",
   "execution_count": null,
   "metadata": {},
   "outputs": [],
   "source": []
  }
 ],
 "metadata": {
  "kernelspec": {
   "display_name": "Python 3",
   "language": "python",
   "name": "python3"
  },
  "language_info": {
   "codemirror_mode": {
    "name": "ipython",
    "version": 3
   },
   "file_extension": ".py",
   "mimetype": "text/x-python",
   "name": "python",
   "nbconvert_exporter": "python",
   "pygments_lexer": "ipython3",
   "version": "3.7.1"
  }
 },
 "nbformat": 4,
 "nbformat_minor": 2
}
