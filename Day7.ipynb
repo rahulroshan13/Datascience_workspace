{
 "cells": [
  {
   "cell_type": "code",
   "execution_count": 16,
   "metadata": {},
   "outputs": [],
   "source": [
    "def func(**kwargs):\n",
    "    if 'veggies' in kwargs.keys():\n",
    "        print('Favorite veggie is %s'%(kwargs['veggies']))\n",
    "    else:\n",
    "        print('No favorite veggie')"
   ]
  },
  {
   "cell_type": "code",
   "execution_count": 17,
   "metadata": {},
   "outputs": [
    {
     "name": "stdout",
     "output_type": "stream",
     "text": [
      "Favorite veggie is carrot\n"
     ]
    }
   ],
   "source": [
    "func(veggies = 'carrot')"
   ]
  },
  {
   "cell_type": "code",
   "execution_count": 18,
   "metadata": {},
   "outputs": [
    {
     "name": "stdout",
     "output_type": "stream",
     "text": [
      "Favorite veggie is \n"
     ]
    }
   ],
   "source": [
    "func(veggies = '')"
   ]
  },
  {
   "cell_type": "code",
   "execution_count": 19,
   "metadata": {},
   "outputs": [
    {
     "name": "stdout",
     "output_type": "stream",
     "text": [
      "No favorite veggie\n"
     ]
    }
   ],
   "source": [
    "func()"
   ]
  },
  {
   "cell_type": "code",
   "execution_count": 26,
   "metadata": {},
   "outputs": [],
   "source": [
    "def func2(**dict):\n",
    "    if 'height' in dict.keys():\n",
    "        print('Height is ',dict['height'])\n",
    "    if 'weight' in dict.keys():\n",
    "        print('weight is ',dict['weight'])\n",
    "    if 'name' in dict.keys():\n",
    "        print('Name is ',dict['name'])"
   ]
  },
  {
   "cell_type": "code",
   "execution_count": 28,
   "metadata": {},
   "outputs": [
    {
     "name": "stdout",
     "output_type": "stream",
     "text": [
      "Height is  172\n",
      "weight is  81\n"
     ]
    }
   ],
   "source": [
    "func2(height = 172, weight = 81)"
   ]
  },
  {
   "cell_type": "code",
   "execution_count": null,
   "metadata": {},
   "outputs": [],
   "source": []
  }
 ],
 "metadata": {
  "kernelspec": {
   "display_name": "Python 3",
   "language": "python",
   "name": "python3"
  },
  "language_info": {
   "codemirror_mode": {
    "name": "ipython",
    "version": 3
   },
   "file_extension": ".py",
   "mimetype": "text/x-python",
   "name": "python",
   "nbconvert_exporter": "python",
   "pygments_lexer": "ipython3",
   "version": "3.7.1"
  }
 },
 "nbformat": 4,
 "nbformat_minor": 2
}
